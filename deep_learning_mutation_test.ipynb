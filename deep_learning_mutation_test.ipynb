{
  "nbformat": 4,
  "nbformat_minor": 0,
  "metadata": {
    "colab": {
      "provenance": []
    },
    "kernelspec": {
      "name": "python3",
      "display_name": "Python 3"
    },
    "language_info": {
      "name": "python"
    },
    "gpuClass": "premium"
  },
  "cells": [
    {
      "cell_type": "code",
      "execution_count": null,
      "metadata": {
        "id": "XVmtpn17E-5s"
      },
      "outputs": [],
      "source": [
        "import torch\n",
        "import torch.nn as nn\n",
        "import torch.nn.functional as F\n",
        "import numpy as np\n",
        "import pandas as pd\n",
        "import matplotlib.pyplot as plt\n",
        "import sklearn_pandas\n",
        "from sklearn.model_selection import train_test_split\n",
        "from sklearn.impute import SimpleImputer\n",
        "from sklearn.preprocessing import OneHotEncoder, StandardScaler\n",
        "from torch.autograd import Variable"
      ]
    },
    {
      "cell_type": "code",
      "source": [
        "USE_CUDA = torch.cuda.is_available()\n",
        "device = torch.device(\"cuda\" if USE_CUDA else \"cpu\")"
      ],
      "metadata": {
        "id": "l1blBQDJod9B"
      },
      "execution_count": null,
      "outputs": []
    },
    {
      "cell_type": "code",
      "source": [
        "df = pd.read_csv(\"customized-mutants.csv\")"
      ],
      "metadata": {
        "id": "sy21pbuaIJmt"
      },
      "execution_count": null,
      "outputs": []
    },
    {
      "cell_type": "code",
      "source": [
        "df.columns"
      ],
      "metadata": {
        "colab": {
          "base_uri": "https://localhost:8080/"
        },
        "id": "3JH-QZsLjWFw",
        "outputId": "a819ee39-e5fd-4752-b133-e2b33f3d1cd8"
      },
      "execution_count": null,
      "outputs": [
        {
          "output_type": "execute_result",
          "data": {
            "text/plain": [
              "Index(['projectId', 'bugId', 'methodName', 'mutantId', 'compositeId',\n",
              "       'className', 'lineNumber', 'testSignature', 'mutationOperatorGroup',\n",
              "       'mutationOperator', 'nodeTypeBasic', 'nodeTypeDetailed',\n",
              "       'nodeContextBasic', 'astContextBasic', 'astContextDetailed',\n",
              "       'astStmtContextBasic', 'astStmtContextDetailed', 'parentContextBasic',\n",
              "       'parentContextDetailed', 'parentStmtContextBasic',\n",
              "       'parentStmtContextDetailed', 'hasLiteralChild', 'hasVariableChild',\n",
              "       'hasOperatorChild', 'isCovered', 'coveringTests', 'isKilled',\n",
              "       'killingTests', 'isTrivial', 'trivialityScore', 'trivialityTests',\n",
              "       'isDominator', 'dominatorStrength', 'isUnproductive', 'isFaultCoupled',\n",
              "       'pKillsDom', 'expKilledDomNodes', 'nestingTotal', 'nestingLoop',\n",
              "       'nestingIf', 'maxNestingInSameMethod', 'nestingRatioTotal',\n",
              "       'nestingRatioLoop', 'nestingRatioIf', 'numMutantsInSameMethod',\n",
              "       'maxLineNumberInSameMethod', 'minLineNumberInSameMethod', 'lineRatio'],\n",
              "      dtype='object')"
            ]
          },
          "metadata": {},
          "execution_count": 4
        }
      ]
    },
    {
      "cell_type": "code",
      "source": [
        "df"
      ],
      "metadata": {
        "colab": {
          "base_uri": "https://localhost:8080/",
          "height": 661
        },
        "id": "KODT5AEtjts9",
        "outputId": "710829c5-edc8-488e-f5bf-61bc7e31e4f8"
      },
      "execution_count": null,
      "outputs": [
        {
          "output_type": "execute_result",
          "data": {
            "text/plain": [
              "       projectId  bugId                                         methodName  \\\n",
              "0          Chart      1                                                NaN   \n",
              "1          Chart      1                                                NaN   \n",
              "2          Chart      1                                                NaN   \n",
              "3          Chart      1                                                NaN   \n",
              "4          Chart      1                                                NaN   \n",
              "...          ...    ...                                                ...   \n",
              "121443     Chart      1  zoomRangeAxes(double;org.jfree.chart.plot.Plot...   \n",
              "121444     Chart      1  zoomRangeAxes(double;org.jfree.chart.plot.Plot...   \n",
              "121445     Chart      1  zoomRangeAxes(double;org.jfree.chart.plot.Plot...   \n",
              "121446     Chart      1  zoomRangeAxes(double;org.jfree.chart.plot.Plot...   \n",
              "121447     Chart      1  zoomRangeAxes(double;org.jfree.chart.plot.Plot...   \n",
              "\n",
              "        mutantId    compositeId  \\\n",
              "0          33990  Chart-1/33990   \n",
              "1          94090  Chart-1/94090   \n",
              "2          15000  Chart-1/15000   \n",
              "3          17827  Chart-1/17827   \n",
              "4          28762  Chart-1/28762   \n",
              "...          ...            ...   \n",
              "121443     26470  Chart-1/26470   \n",
              "121444     59742  Chart-1/59742   \n",
              "121445     60351  Chart-1/60351   \n",
              "121446     10229  Chart-1/10229   \n",
              "121447     10228  Chart-1/10228   \n",
              "\n",
              "                                              className  lineNumber  \\\n",
              "0             org.jfree.chart.renderer.AbstractRenderer        2760   \n",
              "1           org.jfree.chart.urls.TimeSeriesURLGenerator          71   \n",
              "2                             org.jfree.chart.axis.Axis         157   \n",
              "3           org.jfree.chart.axis.CategoryLabelPositions          91   \n",
              "4                  org.jfree.chart.plot.ThermometerPlot         231   \n",
              "...                                                 ...         ...   \n",
              "121443                   org.jfree.chart.plot.PolarPlot        1179   \n",
              "121444  org.jfree.chart.plot.CombinedDomainCategoryPlot         271   \n",
              "121445        org.jfree.chart.plot.CombinedDomainXYPlot         507   \n",
              "121446                      org.jfree.chart.plot.XYPlot        5259   \n",
              "121447                      org.jfree.chart.plot.XYPlot        5259   \n",
              "\n",
              "                                            testSignature  \\\n",
              "0       CIcAAAAAAAAAAAAAAAAAAAAAAAAAAAAAAAAAAAAAAAAAAA...   \n",
              "1       CIcAAAAAAAAAAAAAAAAAAAAAAAAAAAAAAAAAAAAAAAAAAA...   \n",
              "2       CIcAAAAAAAAAAAAAAAAAAAAAAAAAAAAAAAAAAAAAAAAAAA...   \n",
              "3       CIcAAAAAAAAAAAAAAAAAAAAAAAAAAAAAAAAAAAAAAAAAAA...   \n",
              "4       CIcAAAAAAAAAAAAAAAAAAAAAAAAAAAAAAAAAAAAAAAAAAA...   \n",
              "...                                                   ...   \n",
              "121443  CIcAAAAAAAAAAAAAAAAAAAAAAAAAAAAAAAAAAAAAAAAAAA...   \n",
              "121444  CIcAAAAAAAAAAAAAAAAAAAAAAAAAAAAAAAAAAAAAAAAAAA...   \n",
              "121445  CIcAAAAAAAAAAAAAAAAAAAAAAAAAAAAAAAAAAAAAAAAAAA...   \n",
              "121446  CIcAAAAAAAAAAAAAAAAAAAAAAAAAAAAAAAAAAAAAAAAAAA...   \n",
              "121447  CIcAAAAAAAAAAAAAAAAAAAAAAAAAAAAAAAAAAAAAAAAAAA...   \n",
              "\n",
              "       mutationOperatorGroup                mutationOperator  ... nestingLoop  \\\n",
              "0                        LVR   DOUBLE_LITERAL:DOUBLE_LITERAL  ...           1   \n",
              "1                        EVR  METHOD_INVOCATION:NULL_LITERAL  ...           1   \n",
              "2                        LVR     FLOAT_LITERAL:FLOAT_LITERAL  ...           1   \n",
              "3                        AOR                     DIVIDE:PLUS  ...           1   \n",
              "4                        EVR            MULTIPLY:INT_LITERAL  ...           1   \n",
              "...                      ...                             ...  ...         ...   \n",
              "121443                   STD                  <CALL>:<NO-OP>  ...           1   \n",
              "121444                   LVR            BOOLEAN_LITERAL:TRUE  ...           1   \n",
              "121445                   LVR            BOOLEAN_LITERAL:TRUE  ...           1   \n",
              "121446                   STD                  <CALL>:<NO-OP>  ...           1   \n",
              "121447                   LVR            BOOLEAN_LITERAL:TRUE  ...           1   \n",
              "\n",
              "       nestingIf maxNestingInSameMethod nestingRatioTotal nestingRatioLoop  \\\n",
              "0              1                      2               0.5              0.5   \n",
              "1              1                      2               0.5              0.5   \n",
              "2              1                      2               0.5              0.5   \n",
              "3              1                      2               0.5              0.5   \n",
              "4              1                      2               0.5              0.5   \n",
              "...          ...                    ...               ...              ...   \n",
              "121443         1                      1               1.0              1.0   \n",
              "121444         1                      1               1.0              1.0   \n",
              "121445         1                      1               1.0              1.0   \n",
              "121446         1                      1               1.0              1.0   \n",
              "121447         1                      1               1.0              1.0   \n",
              "\n",
              "       nestingRatioIf numMutantsInSameMethod maxLineNumberInSameMethod  \\\n",
              "0                 0.5                   1427                      2763   \n",
              "1                 0.5                   1427                      2763   \n",
              "2                 0.5                   1427                      2763   \n",
              "3                 0.5                   1427                      2763   \n",
              "4                 0.5                   1427                      2763   \n",
              "...               ...                    ...                       ...   \n",
              "121443            1.0                     11                      5259   \n",
              "121444            1.0                     11                      5259   \n",
              "121445            1.0                     11                      5259   \n",
              "121446            1.0                     11                      5259   \n",
              "121447            1.0                     11                      5259   \n",
              "\n",
              "       minLineNumberInSameMethod lineRatio  \n",
              "0                             51  0.998894  \n",
              "1                             51  0.007375  \n",
              "2                             51  0.039086  \n",
              "3                             51  0.014749  \n",
              "4                             51  0.066372  \n",
              "...                          ...       ...  \n",
              "121443                       271  0.182037  \n",
              "121444                       271  0.000000  \n",
              "121445                       271  0.047314  \n",
              "121446                       271  1.000000  \n",
              "121447                       271  1.000000  \n",
              "\n",
              "[121448 rows x 48 columns]"
            ],
            "text/html": [
              "\n",
              "  <div id=\"df-69c291d7-f2ba-46ce-a9f5-f76bf9469246\">\n",
              "    <div class=\"colab-df-container\">\n",
              "      <div>\n",
              "<style scoped>\n",
              "    .dataframe tbody tr th:only-of-type {\n",
              "        vertical-align: middle;\n",
              "    }\n",
              "\n",
              "    .dataframe tbody tr th {\n",
              "        vertical-align: top;\n",
              "    }\n",
              "\n",
              "    .dataframe thead th {\n",
              "        text-align: right;\n",
              "    }\n",
              "</style>\n",
              "<table border=\"1\" class=\"dataframe\">\n",
              "  <thead>\n",
              "    <tr style=\"text-align: right;\">\n",
              "      <th></th>\n",
              "      <th>projectId</th>\n",
              "      <th>bugId</th>\n",
              "      <th>methodName</th>\n",
              "      <th>mutantId</th>\n",
              "      <th>compositeId</th>\n",
              "      <th>className</th>\n",
              "      <th>lineNumber</th>\n",
              "      <th>testSignature</th>\n",
              "      <th>mutationOperatorGroup</th>\n",
              "      <th>mutationOperator</th>\n",
              "      <th>...</th>\n",
              "      <th>nestingLoop</th>\n",
              "      <th>nestingIf</th>\n",
              "      <th>maxNestingInSameMethod</th>\n",
              "      <th>nestingRatioTotal</th>\n",
              "      <th>nestingRatioLoop</th>\n",
              "      <th>nestingRatioIf</th>\n",
              "      <th>numMutantsInSameMethod</th>\n",
              "      <th>maxLineNumberInSameMethod</th>\n",
              "      <th>minLineNumberInSameMethod</th>\n",
              "      <th>lineRatio</th>\n",
              "    </tr>\n",
              "  </thead>\n",
              "  <tbody>\n",
              "    <tr>\n",
              "      <th>0</th>\n",
              "      <td>Chart</td>\n",
              "      <td>1</td>\n",
              "      <td>NaN</td>\n",
              "      <td>33990</td>\n",
              "      <td>Chart-1/33990</td>\n",
              "      <td>org.jfree.chart.renderer.AbstractRenderer</td>\n",
              "      <td>2760</td>\n",
              "      <td>CIcAAAAAAAAAAAAAAAAAAAAAAAAAAAAAAAAAAAAAAAAAAA...</td>\n",
              "      <td>LVR</td>\n",
              "      <td>DOUBLE_LITERAL:DOUBLE_LITERAL</td>\n",
              "      <td>...</td>\n",
              "      <td>1</td>\n",
              "      <td>1</td>\n",
              "      <td>2</td>\n",
              "      <td>0.5</td>\n",
              "      <td>0.5</td>\n",
              "      <td>0.5</td>\n",
              "      <td>1427</td>\n",
              "      <td>2763</td>\n",
              "      <td>51</td>\n",
              "      <td>0.998894</td>\n",
              "    </tr>\n",
              "    <tr>\n",
              "      <th>1</th>\n",
              "      <td>Chart</td>\n",
              "      <td>1</td>\n",
              "      <td>NaN</td>\n",
              "      <td>94090</td>\n",
              "      <td>Chart-1/94090</td>\n",
              "      <td>org.jfree.chart.urls.TimeSeriesURLGenerator</td>\n",
              "      <td>71</td>\n",
              "      <td>CIcAAAAAAAAAAAAAAAAAAAAAAAAAAAAAAAAAAAAAAAAAAA...</td>\n",
              "      <td>EVR</td>\n",
              "      <td>METHOD_INVOCATION:NULL_LITERAL</td>\n",
              "      <td>...</td>\n",
              "      <td>1</td>\n",
              "      <td>1</td>\n",
              "      <td>2</td>\n",
              "      <td>0.5</td>\n",
              "      <td>0.5</td>\n",
              "      <td>0.5</td>\n",
              "      <td>1427</td>\n",
              "      <td>2763</td>\n",
              "      <td>51</td>\n",
              "      <td>0.007375</td>\n",
              "    </tr>\n",
              "    <tr>\n",
              "      <th>2</th>\n",
              "      <td>Chart</td>\n",
              "      <td>1</td>\n",
              "      <td>NaN</td>\n",
              "      <td>15000</td>\n",
              "      <td>Chart-1/15000</td>\n",
              "      <td>org.jfree.chart.axis.Axis</td>\n",
              "      <td>157</td>\n",
              "      <td>CIcAAAAAAAAAAAAAAAAAAAAAAAAAAAAAAAAAAAAAAAAAAA...</td>\n",
              "      <td>LVR</td>\n",
              "      <td>FLOAT_LITERAL:FLOAT_LITERAL</td>\n",
              "      <td>...</td>\n",
              "      <td>1</td>\n",
              "      <td>1</td>\n",
              "      <td>2</td>\n",
              "      <td>0.5</td>\n",
              "      <td>0.5</td>\n",
              "      <td>0.5</td>\n",
              "      <td>1427</td>\n",
              "      <td>2763</td>\n",
              "      <td>51</td>\n",
              "      <td>0.039086</td>\n",
              "    </tr>\n",
              "    <tr>\n",
              "      <th>3</th>\n",
              "      <td>Chart</td>\n",
              "      <td>1</td>\n",
              "      <td>NaN</td>\n",
              "      <td>17827</td>\n",
              "      <td>Chart-1/17827</td>\n",
              "      <td>org.jfree.chart.axis.CategoryLabelPositions</td>\n",
              "      <td>91</td>\n",
              "      <td>CIcAAAAAAAAAAAAAAAAAAAAAAAAAAAAAAAAAAAAAAAAAAA...</td>\n",
              "      <td>AOR</td>\n",
              "      <td>DIVIDE:PLUS</td>\n",
              "      <td>...</td>\n",
              "      <td>1</td>\n",
              "      <td>1</td>\n",
              "      <td>2</td>\n",
              "      <td>0.5</td>\n",
              "      <td>0.5</td>\n",
              "      <td>0.5</td>\n",
              "      <td>1427</td>\n",
              "      <td>2763</td>\n",
              "      <td>51</td>\n",
              "      <td>0.014749</td>\n",
              "    </tr>\n",
              "    <tr>\n",
              "      <th>4</th>\n",
              "      <td>Chart</td>\n",
              "      <td>1</td>\n",
              "      <td>NaN</td>\n",
              "      <td>28762</td>\n",
              "      <td>Chart-1/28762</td>\n",
              "      <td>org.jfree.chart.plot.ThermometerPlot</td>\n",
              "      <td>231</td>\n",
              "      <td>CIcAAAAAAAAAAAAAAAAAAAAAAAAAAAAAAAAAAAAAAAAAAA...</td>\n",
              "      <td>EVR</td>\n",
              "      <td>MULTIPLY:INT_LITERAL</td>\n",
              "      <td>...</td>\n",
              "      <td>1</td>\n",
              "      <td>1</td>\n",
              "      <td>2</td>\n",
              "      <td>0.5</td>\n",
              "      <td>0.5</td>\n",
              "      <td>0.5</td>\n",
              "      <td>1427</td>\n",
              "      <td>2763</td>\n",
              "      <td>51</td>\n",
              "      <td>0.066372</td>\n",
              "    </tr>\n",
              "    <tr>\n",
              "      <th>...</th>\n",
              "      <td>...</td>\n",
              "      <td>...</td>\n",
              "      <td>...</td>\n",
              "      <td>...</td>\n",
              "      <td>...</td>\n",
              "      <td>...</td>\n",
              "      <td>...</td>\n",
              "      <td>...</td>\n",
              "      <td>...</td>\n",
              "      <td>...</td>\n",
              "      <td>...</td>\n",
              "      <td>...</td>\n",
              "      <td>...</td>\n",
              "      <td>...</td>\n",
              "      <td>...</td>\n",
              "      <td>...</td>\n",
              "      <td>...</td>\n",
              "      <td>...</td>\n",
              "      <td>...</td>\n",
              "      <td>...</td>\n",
              "      <td>...</td>\n",
              "    </tr>\n",
              "    <tr>\n",
              "      <th>121443</th>\n",
              "      <td>Chart</td>\n",
              "      <td>1</td>\n",
              "      <td>zoomRangeAxes(double;org.jfree.chart.plot.Plot...</td>\n",
              "      <td>26470</td>\n",
              "      <td>Chart-1/26470</td>\n",
              "      <td>org.jfree.chart.plot.PolarPlot</td>\n",
              "      <td>1179</td>\n",
              "      <td>CIcAAAAAAAAAAAAAAAAAAAAAAAAAAAAAAAAAAAAAAAAAAA...</td>\n",
              "      <td>STD</td>\n",
              "      <td>&lt;CALL&gt;:&lt;NO-OP&gt;</td>\n",
              "      <td>...</td>\n",
              "      <td>1</td>\n",
              "      <td>1</td>\n",
              "      <td>1</td>\n",
              "      <td>1.0</td>\n",
              "      <td>1.0</td>\n",
              "      <td>1.0</td>\n",
              "      <td>11</td>\n",
              "      <td>5259</td>\n",
              "      <td>271</td>\n",
              "      <td>0.182037</td>\n",
              "    </tr>\n",
              "    <tr>\n",
              "      <th>121444</th>\n",
              "      <td>Chart</td>\n",
              "      <td>1</td>\n",
              "      <td>zoomRangeAxes(double;org.jfree.chart.plot.Plot...</td>\n",
              "      <td>59742</td>\n",
              "      <td>Chart-1/59742</td>\n",
              "      <td>org.jfree.chart.plot.CombinedDomainCategoryPlot</td>\n",
              "      <td>271</td>\n",
              "      <td>CIcAAAAAAAAAAAAAAAAAAAAAAAAAAAAAAAAAAAAAAAAAAA...</td>\n",
              "      <td>LVR</td>\n",
              "      <td>BOOLEAN_LITERAL:TRUE</td>\n",
              "      <td>...</td>\n",
              "      <td>1</td>\n",
              "      <td>1</td>\n",
              "      <td>1</td>\n",
              "      <td>1.0</td>\n",
              "      <td>1.0</td>\n",
              "      <td>1.0</td>\n",
              "      <td>11</td>\n",
              "      <td>5259</td>\n",
              "      <td>271</td>\n",
              "      <td>0.000000</td>\n",
              "    </tr>\n",
              "    <tr>\n",
              "      <th>121445</th>\n",
              "      <td>Chart</td>\n",
              "      <td>1</td>\n",
              "      <td>zoomRangeAxes(double;org.jfree.chart.plot.Plot...</td>\n",
              "      <td>60351</td>\n",
              "      <td>Chart-1/60351</td>\n",
              "      <td>org.jfree.chart.plot.CombinedDomainXYPlot</td>\n",
              "      <td>507</td>\n",
              "      <td>CIcAAAAAAAAAAAAAAAAAAAAAAAAAAAAAAAAAAAAAAAAAAA...</td>\n",
              "      <td>LVR</td>\n",
              "      <td>BOOLEAN_LITERAL:TRUE</td>\n",
              "      <td>...</td>\n",
              "      <td>1</td>\n",
              "      <td>1</td>\n",
              "      <td>1</td>\n",
              "      <td>1.0</td>\n",
              "      <td>1.0</td>\n",
              "      <td>1.0</td>\n",
              "      <td>11</td>\n",
              "      <td>5259</td>\n",
              "      <td>271</td>\n",
              "      <td>0.047314</td>\n",
              "    </tr>\n",
              "    <tr>\n",
              "      <th>121446</th>\n",
              "      <td>Chart</td>\n",
              "      <td>1</td>\n",
              "      <td>zoomRangeAxes(double;org.jfree.chart.plot.Plot...</td>\n",
              "      <td>10229</td>\n",
              "      <td>Chart-1/10229</td>\n",
              "      <td>org.jfree.chart.plot.XYPlot</td>\n",
              "      <td>5259</td>\n",
              "      <td>CIcAAAAAAAAAAAAAAAAAAAAAAAAAAAAAAAAAAAAAAAAAAA...</td>\n",
              "      <td>STD</td>\n",
              "      <td>&lt;CALL&gt;:&lt;NO-OP&gt;</td>\n",
              "      <td>...</td>\n",
              "      <td>1</td>\n",
              "      <td>1</td>\n",
              "      <td>1</td>\n",
              "      <td>1.0</td>\n",
              "      <td>1.0</td>\n",
              "      <td>1.0</td>\n",
              "      <td>11</td>\n",
              "      <td>5259</td>\n",
              "      <td>271</td>\n",
              "      <td>1.000000</td>\n",
              "    </tr>\n",
              "    <tr>\n",
              "      <th>121447</th>\n",
              "      <td>Chart</td>\n",
              "      <td>1</td>\n",
              "      <td>zoomRangeAxes(double;org.jfree.chart.plot.Plot...</td>\n",
              "      <td>10228</td>\n",
              "      <td>Chart-1/10228</td>\n",
              "      <td>org.jfree.chart.plot.XYPlot</td>\n",
              "      <td>5259</td>\n",
              "      <td>CIcAAAAAAAAAAAAAAAAAAAAAAAAAAAAAAAAAAAAAAAAAAA...</td>\n",
              "      <td>LVR</td>\n",
              "      <td>BOOLEAN_LITERAL:TRUE</td>\n",
              "      <td>...</td>\n",
              "      <td>1</td>\n",
              "      <td>1</td>\n",
              "      <td>1</td>\n",
              "      <td>1.0</td>\n",
              "      <td>1.0</td>\n",
              "      <td>1.0</td>\n",
              "      <td>11</td>\n",
              "      <td>5259</td>\n",
              "      <td>271</td>\n",
              "      <td>1.000000</td>\n",
              "    </tr>\n",
              "  </tbody>\n",
              "</table>\n",
              "<p>121448 rows × 48 columns</p>\n",
              "</div>\n",
              "      <button class=\"colab-df-convert\" onclick=\"convertToInteractive('df-69c291d7-f2ba-46ce-a9f5-f76bf9469246')\"\n",
              "              title=\"Convert this dataframe to an interactive table.\"\n",
              "              style=\"display:none;\">\n",
              "        \n",
              "  <svg xmlns=\"http://www.w3.org/2000/svg\" height=\"24px\"viewBox=\"0 0 24 24\"\n",
              "       width=\"24px\">\n",
              "    <path d=\"M0 0h24v24H0V0z\" fill=\"none\"/>\n",
              "    <path d=\"M18.56 5.44l.94 2.06.94-2.06 2.06-.94-2.06-.94-.94-2.06-.94 2.06-2.06.94zm-11 1L8.5 8.5l.94-2.06 2.06-.94-2.06-.94L8.5 2.5l-.94 2.06-2.06.94zm10 10l.94 2.06.94-2.06 2.06-.94-2.06-.94-.94-2.06-.94 2.06-2.06.94z\"/><path d=\"M17.41 7.96l-1.37-1.37c-.4-.4-.92-.59-1.43-.59-.52 0-1.04.2-1.43.59L10.3 9.45l-7.72 7.72c-.78.78-.78 2.05 0 2.83L4 21.41c.39.39.9.59 1.41.59.51 0 1.02-.2 1.41-.59l7.78-7.78 2.81-2.81c.8-.78.8-2.07 0-2.86zM5.41 20L4 18.59l7.72-7.72 1.47 1.35L5.41 20z\"/>\n",
              "  </svg>\n",
              "      </button>\n",
              "      \n",
              "  <style>\n",
              "    .colab-df-container {\n",
              "      display:flex;\n",
              "      flex-wrap:wrap;\n",
              "      gap: 12px;\n",
              "    }\n",
              "\n",
              "    .colab-df-convert {\n",
              "      background-color: #E8F0FE;\n",
              "      border: none;\n",
              "      border-radius: 50%;\n",
              "      cursor: pointer;\n",
              "      display: none;\n",
              "      fill: #1967D2;\n",
              "      height: 32px;\n",
              "      padding: 0 0 0 0;\n",
              "      width: 32px;\n",
              "    }\n",
              "\n",
              "    .colab-df-convert:hover {\n",
              "      background-color: #E2EBFA;\n",
              "      box-shadow: 0px 1px 2px rgba(60, 64, 67, 0.3), 0px 1px 3px 1px rgba(60, 64, 67, 0.15);\n",
              "      fill: #174EA6;\n",
              "    }\n",
              "\n",
              "    [theme=dark] .colab-df-convert {\n",
              "      background-color: #3B4455;\n",
              "      fill: #D2E3FC;\n",
              "    }\n",
              "\n",
              "    [theme=dark] .colab-df-convert:hover {\n",
              "      background-color: #434B5C;\n",
              "      box-shadow: 0px 1px 3px 1px rgba(0, 0, 0, 0.15);\n",
              "      filter: drop-shadow(0px 1px 2px rgba(0, 0, 0, 0.3));\n",
              "      fill: #FFFFFF;\n",
              "    }\n",
              "  </style>\n",
              "\n",
              "      <script>\n",
              "        const buttonEl =\n",
              "          document.querySelector('#df-69c291d7-f2ba-46ce-a9f5-f76bf9469246 button.colab-df-convert');\n",
              "        buttonEl.style.display =\n",
              "          google.colab.kernel.accessAllowed ? 'block' : 'none';\n",
              "\n",
              "        async function convertToInteractive(key) {\n",
              "          const element = document.querySelector('#df-69c291d7-f2ba-46ce-a9f5-f76bf9469246');\n",
              "          const dataTable =\n",
              "            await google.colab.kernel.invokeFunction('convertToInteractive',\n",
              "                                                     [key], {});\n",
              "          if (!dataTable) return;\n",
              "\n",
              "          const docLinkHtml = 'Like what you see? Visit the ' +\n",
              "            '<a target=\"_blank\" href=https://colab.research.google.com/notebooks/data_table.ipynb>data table notebook</a>'\n",
              "            + ' to learn more about interactive tables.';\n",
              "          element.innerHTML = '';\n",
              "          dataTable['output_type'] = 'display_data';\n",
              "          await google.colab.output.renderOutput(dataTable, element);\n",
              "          const docLink = document.createElement('div');\n",
              "          docLink.innerHTML = docLinkHtml;\n",
              "          element.appendChild(docLink);\n",
              "        }\n",
              "      </script>\n",
              "    </div>\n",
              "  </div>\n",
              "  "
            ]
          },
          "metadata": {},
          "execution_count": 4
        }
      ]
    },
    {
      "cell_type": "code",
      "source": [
        "y_df = df[\"pKillsDom\"]"
      ],
      "metadata": {
        "id": "yFcCQ_qqkpjr"
      },
      "execution_count": null,
      "outputs": []
    },
    {
      "cell_type": "code",
      "source": [
        "y_df"
      ],
      "metadata": {
        "colab": {
          "base_uri": "https://localhost:8080/"
        },
        "id": "KN181cUikzIl",
        "outputId": "31d3a676-2461-44f3-fa2c-5a73e940a439"
      },
      "execution_count": null,
      "outputs": [
        {
          "output_type": "execute_result",
          "data": {
            "text/plain": [
              "0         0.00\n",
              "1         0.75\n",
              "2         0.00\n",
              "3         0.00\n",
              "4         0.00\n",
              "          ... \n",
              "121443    0.00\n",
              "121444    0.00\n",
              "121445    0.00\n",
              "121446    0.00\n",
              "121447    0.00\n",
              "Name: pKillsDom, Length: 121448, dtype: float64"
            ]
          },
          "metadata": {},
          "execution_count": 7
        }
      ]
    },
    {
      "cell_type": "code",
      "source": [
        "# For all data features\n",
        "mapper = sklearn_pandas.DataFrameMapper(\n",
        "    [\n",
        "            ([\"lineRatio\"], [SimpleImputer(strategy=\"mean\"), StandardScaler()]),\n",
        "            (\n",
        "                [\"nestingIf\", \"nestingLoop\", \"nestingTotal\", \"maxNestingInSameMethod\"],\n",
        "                StandardScaler(),\n",
        "            ),\n",
        "            (\n",
        "                [\n",
        "                    \"nestingRatioLoop\",\n",
        "                    \"nestingRatioIf\",\n",
        "                    \"nestingRatioTotal\",\n",
        "                    \"hasOperatorChild\",\n",
        "                    \"hasVariableChild\",\n",
        "                    \"hasLiteralChild\",\n",
        "                ],\n",
        "                None,\n",
        "            ),\n",
        "            (\n",
        "                [\"nodeTypeBasic\", \"nodeTypeDetailed\"],\n",
        "                [\n",
        "                    SimpleImputer(strategy=\"constant\", fill_value=\"Unknown\"),\n",
        "                    OneHotEncoder(handle_unknown=\"ignore\"),\n",
        "                ],\n",
        "            ),\n",
        "            (\n",
        "                [\n",
        "                    \"mutationOperator\",\n",
        "                    \"mutationOperatorGroup\",\n",
        "                    \"nodeContextBasic\",\n",
        "                    \"astContextBasic\",\n",
        "                    \"astContextDetailed\",\n",
        "                    \"astStmtContextBasic\",\n",
        "                    \"astStmtContextDetailed\",\n",
        "                    \"parentContextBasic\",\n",
        "                    \"parentContextDetailed\",\n",
        "                    \"parentStmtContextBasic\",\n",
        "                    \"parentStmtContextDetailed\",\n",
        "                ],\n",
        "                OneHotEncoder(handle_unknown=\"ignore\"),\n",
        "            ),\n",
        "        ]\n",
        ")\n",
        "\n",
        "x_all = mapper.fit_transform(df.copy()).astype(np.float32)"
      ],
      "metadata": {
        "id": "4ePlxATZk3c0"
      },
      "execution_count": null,
      "outputs": []
    },
    {
      "cell_type": "code",
      "source": [
        "# For small data\n",
        "mapper = sklearn_pandas.DataFrameMapper(\n",
        "        [\n",
        "            (\n",
        "                [\"mutationOperator\", \"parentStmtContextDetailed\"],\n",
        "                OneHotEncoder(handle_unknown=\"ignore\"),\n",
        "            )\n",
        "        ]\n",
        ")\n",
        "x_all = mapper.fit_transform(df.copy()).astype(np.float32)"
      ],
      "metadata": {
        "id": "8i5cV63XscaU"
      },
      "execution_count": null,
      "outputs": []
    },
    {
      "cell_type": "code",
      "source": [
        "x_all"
      ],
      "metadata": {
        "colab": {
          "base_uri": "https://localhost:8080/"
        },
        "id": "Rmv88ZtVl3wK",
        "outputId": "ed430046-be47-4ee3-e6a8-7862875eafca"
      },
      "execution_count": null,
      "outputs": [
        {
          "output_type": "execute_result",
          "data": {
            "text/plain": [
              "array([[ 1.7901825 , -0.6623826 , -0.42590162, ...,  1.        ,\n",
              "         0.        ,  0.        ],\n",
              "       [-1.1310368 , -0.6623826 , -0.42590162, ...,  1.        ,\n",
              "         0.        ,  0.        ],\n",
              "       [-1.0376099 , -0.6623826 , -0.42590162, ...,  1.        ,\n",
              "         0.        ,  0.        ],\n",
              "       ...,\n",
              "       [-1.0133685 , -0.6623826 , -0.42590162, ...,  0.        ,\n",
              "         0.        ,  0.        ],\n",
              "       [ 1.7934415 , -0.6623826 , -0.42590162, ...,  0.        ,\n",
              "         0.        ,  0.        ],\n",
              "       [ 1.7934415 , -0.6623826 , -0.42590162, ...,  0.        ,\n",
              "         0.        ,  0.        ]], dtype=float32)"
            ]
          },
          "metadata": {},
          "execution_count": 6
        }
      ]
    },
    {
      "cell_type": "code",
      "source": [
        "y_all = df.pKillsDom.values.copy()"
      ],
      "metadata": {
        "id": "RjCPnwa-mWeA"
      },
      "execution_count": null,
      "outputs": []
    },
    {
      "cell_type": "code",
      "source": [
        "y_all"
      ],
      "metadata": {
        "colab": {
          "base_uri": "https://localhost:8080/"
        },
        "id": "V0zmQIy-mZoT",
        "outputId": "bdfefb62-0fc2-441c-ee6c-ad3bb8f32d14"
      },
      "execution_count": null,
      "outputs": [
        {
          "output_type": "execute_result",
          "data": {
            "text/plain": [
              "array([0.  , 0.75, 0.  , ..., 0.  , 0.  , 0.  ])"
            ]
          },
          "metadata": {},
          "execution_count": 8
        }
      ]
    },
    {
      "cell_type": "code",
      "source": [
        "X_train, X_test, y_train, y_test = train_test_split(x_all, y_all, test_size=0.5, random_state=42)\n",
        "X_train = torch.FloatTensor(X_train).to(device)\n",
        "X_test = torch.FloatTensor(X_test).to(device)\n",
        "y_train = torch.LongTensor(y_train).to(device)\n",
        "y_test = torch.LongTensor(y_test).to(device)"
      ],
      "metadata": {
        "id": "ntFqpCrMmv0Q"
      },
      "execution_count": null,
      "outputs": []
    },
    {
      "cell_type": "code",
      "source": [
        "class ANN(nn.Module):\n",
        "    def __init__(self):\n",
        "        super().__init__()\n",
        "        # self.fc1 = nn.Linear(in_features=1408, out_features=64) # 9617 167  # 1408 111\n",
        "        # self.fc2 = nn.Linear(in_features=64, out_features=30)\n",
        "        # self.output = nn.Linear(in_features=30, out_features=1)\n",
        "\n",
        "        self.fc1 = nn.Linear(in_features=9617, out_features=100) # 9617 167  # 1408, 111  # 4176\n",
        "        self.fc2 = nn.Linear(in_features=100, out_features=50)\n",
        "        self.fc3 = nn.Linear(in_features=50, out_features=25)\n",
        "        self.fc4 = nn.Linear(in_features=25, out_features=10)\n",
        "        self.output = nn.Linear(in_features=10, out_features=1)\n",
        " \n",
        "    def forward(self, x):\n",
        "        x = F.relu(self.fc1(x))\n",
        "        x = F.relu(self.fc2(x))\n",
        "        x = F.relu(self.fc3(x))\n",
        "        x = F.relu(self.fc4(x))\n",
        "        x = F.softmax(self.output(x))\n",
        "        return x"
      ],
      "metadata": {
        "id": "AjxHjYxMj-hV"
      },
      "execution_count": null,
      "outputs": []
    },
    {
      "cell_type": "code",
      "source": [
        "model = ANN().to(device)\n",
        "criterion = nn.L1Loss()\n",
        "optimizer = torch.optim.Adam(model.parameters(), lr=0.01) # 0.01, 0.05, 0.1"
      ],
      "metadata": {
        "id": "6FoRMe46kFkO"
      },
      "execution_count": null,
      "outputs": []
    },
    {
      "cell_type": "code",
      "source": [
        "len(X_train[0])"
      ],
      "metadata": {
        "colab": {
          "base_uri": "https://localhost:8080/"
        },
        "id": "S26BTtf8nhCz",
        "outputId": "c3dfdef2-4c0a-409d-ebc9-6d0106625452"
      },
      "execution_count": null,
      "outputs": [
        {
          "output_type": "execute_result",
          "data": {
            "text/plain": [
              "9617"
            ]
          },
          "metadata": {},
          "execution_count": 12
        }
      ]
    },
    {
      "cell_type": "code",
      "source": [
        "y_test"
      ],
      "metadata": {
        "colab": {
          "base_uri": "https://localhost:8080/"
        },
        "id": "bAG6NvAQoJaK",
        "outputId": "4cb26f9d-5a6c-47eb-f36b-5238b5458cdc"
      },
      "execution_count": null,
      "outputs": [
        {
          "output_type": "execute_result",
          "data": {
            "text/plain": [
              "tensor([0, 0, 0,  ..., 0, 0, 0], device='cuda:0')"
            ]
          },
          "metadata": {},
          "execution_count": 13
        }
      ]
    },
    {
      "cell_type": "code",
      "source": [
        "epochs = 100\n",
        "loss_arr = []\n",
        "\n",
        "for i in range(epochs):\n",
        "    y_hat = model.forward(X_train)\n",
        "    loss = criterion(y_hat, y_train)\n",
        "    loss_arr.append(loss)\n",
        "    \n",
        " \n",
        "    if i % 10 == 0:\n",
        "        print(f'Epoch: {i} Loss: {loss}')\n",
        " \n",
        "    optimizer.zero_grad()\n",
        "    loss.backward()\n",
        "    optimizer.step()"
      ],
      "metadata": {
        "colab": {
          "base_uri": "https://localhost:8080/",
          "height": 488
        },
        "id": "Pb4ecRdjkN8d",
        "outputId": "53cf6b35-55da-4b6d-a484-f921356372bb"
      },
      "execution_count": null,
      "outputs": [
        {
          "output_type": "stream",
          "name": "stderr",
          "text": [
            "<ipython-input-10-880bf4c571e8>:19: UserWarning: Implicit dimension choice for softmax has been deprecated. Change the call to include dim=X as an argument.\n",
            "  x = F.softmax(self.output(x))\n",
            "/usr/local/lib/python3.9/dist-packages/torch/nn/modules/loss.py:101: UserWarning: Using a target size (torch.Size([60724])) that is different to the input size (torch.Size([60724, 1])). This will likely lead to incorrect results due to broadcasting. Please ensure they have the same size.\n",
            "  return F.l1_loss(input, target, reduction=self.reduction)\n"
          ]
        },
        {
          "output_type": "stream",
          "name": "stdout",
          "text": [
            "Epoch: 0 Loss: 0.8287333250045776\n"
          ]
        },
        {
          "output_type": "error",
          "ename": "OutOfMemoryError",
          "evalue": "ignored",
          "traceback": [
            "\u001b[0;31m---------------------------------------------------------------------------\u001b[0m",
            "\u001b[0;31mOutOfMemoryError\u001b[0m                          Traceback (most recent call last)",
            "\u001b[0;32m<ipython-input-14-8a4f21534730>\u001b[0m in \u001b[0;36m<cell line: 4>\u001b[0;34m()\u001b[0m\n\u001b[1;32m     12\u001b[0m \u001b[0;34m\u001b[0m\u001b[0m\n\u001b[1;32m     13\u001b[0m     \u001b[0moptimizer\u001b[0m\u001b[0;34m.\u001b[0m\u001b[0mzero_grad\u001b[0m\u001b[0;34m(\u001b[0m\u001b[0;34m)\u001b[0m\u001b[0;34m\u001b[0m\u001b[0;34m\u001b[0m\u001b[0m\n\u001b[0;32m---> 14\u001b[0;31m     \u001b[0mloss\u001b[0m\u001b[0;34m.\u001b[0m\u001b[0mbackward\u001b[0m\u001b[0;34m(\u001b[0m\u001b[0;34m)\u001b[0m\u001b[0;34m\u001b[0m\u001b[0;34m\u001b[0m\u001b[0m\n\u001b[0m\u001b[1;32m     15\u001b[0m     \u001b[0moptimizer\u001b[0m\u001b[0;34m.\u001b[0m\u001b[0mstep\u001b[0m\u001b[0;34m(\u001b[0m\u001b[0;34m)\u001b[0m\u001b[0;34m\u001b[0m\u001b[0;34m\u001b[0m\u001b[0m\n",
            "\u001b[0;32m/usr/local/lib/python3.9/dist-packages/torch/_tensor.py\u001b[0m in \u001b[0;36mbackward\u001b[0;34m(self, gradient, retain_graph, create_graph, inputs)\u001b[0m\n\u001b[1;32m    485\u001b[0m                 \u001b[0minputs\u001b[0m\u001b[0;34m=\u001b[0m\u001b[0minputs\u001b[0m\u001b[0;34m,\u001b[0m\u001b[0;34m\u001b[0m\u001b[0;34m\u001b[0m\u001b[0m\n\u001b[1;32m    486\u001b[0m             )\n\u001b[0;32m--> 487\u001b[0;31m         torch.autograd.backward(\n\u001b[0m\u001b[1;32m    488\u001b[0m             \u001b[0mself\u001b[0m\u001b[0;34m,\u001b[0m \u001b[0mgradient\u001b[0m\u001b[0;34m,\u001b[0m \u001b[0mretain_graph\u001b[0m\u001b[0;34m,\u001b[0m \u001b[0mcreate_graph\u001b[0m\u001b[0;34m,\u001b[0m \u001b[0minputs\u001b[0m\u001b[0;34m=\u001b[0m\u001b[0minputs\u001b[0m\u001b[0;34m\u001b[0m\u001b[0;34m\u001b[0m\u001b[0m\n\u001b[1;32m    489\u001b[0m         )\n",
            "\u001b[0;32m/usr/local/lib/python3.9/dist-packages/torch/autograd/__init__.py\u001b[0m in \u001b[0;36mbackward\u001b[0;34m(tensors, grad_tensors, retain_graph, create_graph, grad_variables, inputs)\u001b[0m\n\u001b[1;32m    198\u001b[0m     \u001b[0;31m# some Python versions print out the first line of a multi-line function\u001b[0m\u001b[0;34m\u001b[0m\u001b[0;34m\u001b[0m\u001b[0m\n\u001b[1;32m    199\u001b[0m     \u001b[0;31m# calls in the traceback and some print out the last line\u001b[0m\u001b[0;34m\u001b[0m\u001b[0;34m\u001b[0m\u001b[0m\n\u001b[0;32m--> 200\u001b[0;31m     Variable._execution_engine.run_backward(  # Calls into the C++ engine to run the backward pass\n\u001b[0m\u001b[1;32m    201\u001b[0m         \u001b[0mtensors\u001b[0m\u001b[0;34m,\u001b[0m \u001b[0mgrad_tensors_\u001b[0m\u001b[0;34m,\u001b[0m \u001b[0mretain_graph\u001b[0m\u001b[0;34m,\u001b[0m \u001b[0mcreate_graph\u001b[0m\u001b[0;34m,\u001b[0m \u001b[0minputs\u001b[0m\u001b[0;34m,\u001b[0m\u001b[0;34m\u001b[0m\u001b[0;34m\u001b[0m\u001b[0m\n\u001b[1;32m    202\u001b[0m         allow_unreachable=True, accumulate_grad=True)  # Calls into the C++ engine to run the backward pass\n",
            "\u001b[0;31mOutOfMemoryError\u001b[0m: CUDA out of memory. Tried to allocate 13.74 GiB (GPU 0; 39.56 GiB total capacity; 31.88 GiB already allocated; 6.35 GiB free; 31.90 GiB reserved in total by PyTorch) If reserved memory is >> allocated memory try setting max_split_size_mb to avoid fragmentation.  See documentation for Memory Management and PYTORCH_CUDA_ALLOC_CONF"
          ]
        }
      ]
    },
    {
      "cell_type": "code",
      "source": [
        "loss_arr"
      ],
      "metadata": {
        "id": "gz6AVKd1vNfY"
      },
      "execution_count": null,
      "outputs": []
    },
    {
      "cell_type": "code",
      "source": [
        "loss_list = [loss_tensor.item() for loss_tensor in loss_arr]"
      ],
      "metadata": {
        "id": "g41xAWJ_vTeZ"
      },
      "execution_count": null,
      "outputs": []
    },
    {
      "cell_type": "code",
      "source": [
        "plt.title('Loss VS Epoch')\n",
        "plt.xlabel(\"Loss\")\n",
        "plt.xlabel(\"Epoch\")\n",
        "plt.plot(loss_list)"
      ],
      "metadata": {
        "id": "W3qAnoIckQ-I"
      },
      "execution_count": null,
      "outputs": []
    }
  ]
}